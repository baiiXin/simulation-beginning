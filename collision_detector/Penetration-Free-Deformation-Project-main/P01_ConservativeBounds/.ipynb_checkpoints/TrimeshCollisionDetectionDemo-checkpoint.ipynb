{
 "cells": [
  {
   "cell_type": "code",
   "execution_count": 4,
   "id": "7167e001-cd19-4f4b-949a-926ef9fdb07f",
   "metadata": {
    "editable": true,
    "slideshow": {
     "slide_type": ""
    },
    "tags": []
   },
   "outputs": [],
   "source": [
    "import warp as wp\n",
    "import numpy as np\n",
    "import trimesh\n",
    "\n",
    "from warp.sim.collide import TriMeshCollisionDetector"
   ]
  },
  {
   "cell_type": "code",
   "execution_count": 26,
   "id": "9ac372a4-37b8-4895-866a-0e3027c3af08",
   "metadata": {},
   "outputs": [],
   "source": [
    "device = wp.get_device('cuda')\n",
    "# if you don't have a CUDA-compatible GPU try switching to CPU\n",
    "# device = wp.get_device('cpu')"
   ]
  },
  {
   "cell_type": "code",
   "execution_count": 9,
   "id": "12284548-4b78-4079-a39c-f36565a9d842",
   "metadata": {
    "editable": true,
    "slideshow": {
     "slide_type": ""
    },
    "tags": []
   },
   "outputs": [],
   "source": [
    "mesh = trimesh.load('Cube_subdivided.ply')\n"
   ]
  },
  {
   "cell_type": "code",
   "execution_count": 22,
   "id": "62fcb41b-05aa-4a05-bf51-76f3cda7bbc7",
   "metadata": {
    "editable": true,
    "slideshow": {
     "slide_type": ""
    },
    "tags": []
   },
   "outputs": [
    {
     "name": "stdout",
     "output_type": "stream",
     "text": [
      "Module warp.sim.graph_coloring 3c9ae71 load on device 'cpu' took 12.42 ms  (cached)\n"
     ]
    }
   ],
   "source": [
    "builder = wp.sim.ModelBuilder()\n",
    "\n",
    "vertices = [wp.vec3(mesh.vertices[i,:]) for i in range(mesh.vertices.shape[0])]\n",
    "builder.add_cloth_mesh(\n",
    "            pos=wp.vec3(0.0, 0.0, 0.0),\n",
    "            rot=wp.quat_identity(),\n",
    "            scale=1.0,\n",
    "            vertices=vertices,\n",
    "            indices=mesh.faces.reshape(-1),\n",
    "            vel=wp.vec3(0.0, 0.0, 0.0),\n",
    "            density=0.02,\n",
    "            tri_ke=1.0e5,\n",
    "            tri_ka=1.0e5,\n",
    "            tri_kd=2.0e-6,\n",
    "            edge_ke=10,\n",
    ")\n",
    "builder.color()\n",
    "model = builder.finalize()"
   ]
  },
  {
   "cell_type": "code",
   "execution_count": 25,
   "id": "b61281e0-7782-43f5-a836-eed581120965",
   "metadata": {},
   "outputs": [],
   "source": [
    "# to access ForceElementAdjacencyInfo, you need to construct a VBDIntegrator (you dont need to understand what it is)\n",
    "vbd_integrator = wp.sim.VBDIntegrator(model)"
   ]
  },
  {
   "cell_type": "code",
   "execution_count": 27,
   "id": "44c3b33e-e8cf-4cda-b198-21f52580ab80",
   "metadata": {},
   "outputs": [
    {
     "name": "stdout",
     "output_type": "stream",
     "text": [
      "Module warp.sim.collide b4c7297 load on device 'cuda:0' took 105.07 ms  (cached)\n"
     ]
    }
   ],
   "source": [
    "colision_detector = TriMeshCollisionDetector(model)"
   ]
  },
  {
   "cell_type": "code",
   "execution_count": 29,
   "id": "d5a24802-5276-40ba-a38f-ac6844daad29",
   "metadata": {},
   "outputs": [],
   "source": [
    "colision_detector.vertex_triangle_collision_detection(5.0)\n",
    "colision_detector.edge_edge_collision_detection(5.0)"
   ]
  },
  {
   "cell_type": "code",
   "execution_count": 36,
   "id": "389b4f1c-12e4-444f-9293-d4c250d3222a",
   "metadata": {},
   "outputs": [
    {
     "name": "stdout",
     "output_type": "stream",
     "text": [
      "[0.08838835 0.08838835 0.08838835 ... 0.08838835 0.08838835 0.08838835]\n",
      "[0.08838835 0.08838835 0.08838835 ... 0.08838835 0.08838835 0.08838835]\n",
      "[0.08838835 0.09349301 0.08838835 ... 0.08838835 0.08838835 0.08838835]\n"
     ]
    }
   ],
   "source": [
    "# d^v_{min}\n",
    "print(colision_detector.vertex_colliding_triangles_min_dist)\n",
    "# d^E_{min}\n",
    "print(colision_detector.edge_colliding_edges_min_dist)\n",
    "# d^T_{min}\n",
    "print(colision_detector.triangle_colliding_vertices_min_dist)"
   ]
  },
  {
   "cell_type": "code",
   "execution_count": 48,
   "id": "c3c43b5c-58fe-48a3-a033-db0fbf83f306",
   "metadata": {},
   "outputs": [
    {
     "name": "stdout",
     "output_type": "stream",
     "text": [
      "Module __main__ 32f556b load on device 'cuda:0' took 418.42 ms  (compiled)\n"
     ]
    }
   ],
   "source": [
    "from warp.sim.integrator_vbd import get_vertex_num_adjacent_edges, get_vertex_adjacent_edge_id_order, get_vertex_num_adjacent_faces, get_vertex_adjacent_face_id_order, ForceElementAdjacencyInfo\n",
    "# how to iterate over neighbor elements\n",
    "@wp.kernel\n",
    "def iterate_vertex_neighbor_primitives(\n",
    "    adjacency: ForceElementAdjacencyInfo\n",
    "):\n",
    "    particle_idx = wp.tid()\n",
    "\n",
    "    # iterating over neighbor faces\n",
    "    num_adj_faces = get_vertex_num_adjacent_faces(adjacency, particle_idx)\n",
    "    for face_counter in range(num_adj_faces):\n",
    "        adj_face_idx, vertex_order = get_vertex_adjacent_face_id_order(adjacency, particle_idx, face_counter)\n",
    "    # iterating over neighbor edges\n",
    "    num_adj_edges = get_vertex_num_adjacent_edges(adjacency, particle_idx)\n",
    "    for edge_counter in range(num_adj_edges):\n",
    "        edge_idx, v_order = get_vertex_adjacent_edge_id_order(adjacency, particle_idx, edge_counter)\n",
    "\n",
    "wp.launch(\n",
    "    iterate_vertex_neighbor_primitives,\n",
    "    dim=model.particle_count,\n",
    "    inputs=[vbd_integrator.adjacency],\n",
    "    device=device\n",
    ")"
   ]
  },
  {
   "cell_type": "code",
   "execution_count": 49,
   "id": "d2918eeb-d12b-4964-af5c-c18176c71e80",
   "metadata": {},
   "outputs": [],
   "source": [
    "# your turn: you need to:\n",
    "# Implement conservative bounds computation using the instructions provided above\n",
    "# it must be implemented using @warp.kernel to maximize efficiency"
   ]
  },
  {
   "cell_type": "code",
   "execution_count": null,
   "id": "a8e98f49-e8eb-4543-aa98-7e5b52516e7f",
   "metadata": {},
   "outputs": [],
   "source": []
  }
 ],
 "metadata": {
  "kernelspec": {
   "display_name": "Python 3 (ipykernel)",
   "language": "python",
   "name": "python3"
  },
  "language_info": {
   "codemirror_mode": {
    "name": "ipython",
    "version": 3
   },
   "file_extension": ".py",
   "mimetype": "text/x-python",
   "name": "python",
   "nbconvert_exporter": "python",
   "pygments_lexer": "ipython3",
   "version": "3.11.9"
  }
 },
 "nbformat": 4,
 "nbformat_minor": 5
}
